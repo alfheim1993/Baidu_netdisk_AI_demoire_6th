{
 "cells": [
  {
   "cell_type": "code",
   "execution_count": 1,
   "metadata": {
    "collapsed": false,
    "execution": {
     "iopub.execute_input": "2022-01-24T03:08:36.706002Z",
     "iopub.status.busy": "2022-01-24T03:08:36.705503Z",
     "iopub.status.idle": "2022-01-24T03:08:36.919066Z",
     "shell.execute_reply": "2022-01-24T03:08:36.918275Z",
     "shell.execute_reply.started": "2022-01-24T03:08:36.705960Z"
    },
    "jupyter": {
     "outputs_hidden": false
    },
    "scrolled": true
   },
   "outputs": [
    {
     "name": "stdout",
     "output_type": "stream",
     "text": [
      "data121036  data126186\n"
     ]
    }
   ],
   "source": [
    "# 查看当前挂载的数据集目录, 该目录下的变更重启环境后会自动还原\n",
    "# View dataset directory. \n",
    "# This directory will be recovered automatically after resetting environment. \n",
    "!ls /home/aistudio/data"
   ]
  },
  {
   "cell_type": "code",
   "execution_count": 2,
   "metadata": {
    "collapsed": false,
    "execution": {
     "iopub.execute_input": "2022-01-24T03:08:42.676644Z",
     "iopub.status.busy": "2022-01-24T03:08:42.676120Z",
     "iopub.status.idle": "2022-01-24T03:08:42.888394Z",
     "shell.execute_reply": "2022-01-24T03:08:42.887574Z",
     "shell.execute_reply.started": "2022-01-24T03:08:42.676603Z"
    },
    "jupyter": {
     "outputs_hidden": false
    },
    "scrolled": true
   },
   "outputs": [],
   "source": [
    "# 查看工作区文件, 该目录下的变更将会持久保存. 请及时清理不必要的文件, 避免加载过慢.\n",
    "# View personal work directory. \n",
    "# All changes under this directory will be kept even after reset. \n",
    "# Please clean unnecessary files in time to speed up environment loading. \n",
    "!ls /home/aistudio/work"
   ]
  },
  {
   "cell_type": "code",
   "execution_count": null,
   "metadata": {
    "collapsed": false,
    "jupyter": {
     "outputs_hidden": false
    },
    "scrolled": true
   },
   "outputs": [],
   "source": [
    "# 如果需要进行持久化安装, 需要使用持久化路径, 如下方代码示例:\n",
    "# If a persistence installation is required, \n",
    "# you need to use the persistence path as the following: \n",
    "!mkdir /home/aistudio/external-libraries\n",
    "!pip install beautifulsoup4 -t /home/aistudio/external-libraries"
   ]
  },
  {
   "cell_type": "code",
   "execution_count": null,
   "metadata": {
    "collapsed": false,
    "jupyter": {
     "outputs_hidden": false
    },
    "scrolled": true
   },
   "outputs": [],
   "source": [
    "# 同时添加如下代码, 这样每次环境(kernel)启动的时候只要运行下方代码即可: \n",
    "# Also add the following code, \n",
    "# so that every time the environment (kernel) starts, \n",
    "# just run the following code: \n",
    "import sys \n",
    "sys.path.append('/home/aistudio/external-libraries')"
   ]
  },
  {
   "cell_type": "markdown",
   "metadata": {},
   "source": [
    "# 任务\n",
    "对比赛给定的带有摩尔纹的图片进行处理，消除屏摄产生的摩尔纹噪声，还原图片原本的样子\n",
    "# 评价指标\n",
    "![](https://ai-studio-static-online.cdn.bcebos.com/47963fc72fb84278a46c51b2e852dd15fadd9b15b14f4e5ba21b5c9bc2690f03)\n",
    "\n",
    "# 数据\n",
    "训练集1000张，测试集A、B各200张\n",
    "\n",
    "![](https://ai-studio-static-online.cdn.bcebos.com/b561143cbef843c2ae94251d8a1e8d97ad3e7714d06242d88b828aec459ba381)\n",
    "\n",
    "# 难点\n",
    "1、摩尔纹形态有多种，没有统一的特征\n",
    "\n",
    "2、摩尔纹在整张图上分布不均匀\n",
    "![](https://ai-studio-static-online.cdn.bcebos.com/d14f646643864c37821a67c58f26a702bd7cc1a91a75430d851e3c1f522e0ae1)\n",
    "\n",
    "# 数据处理\n",
    "1000张训练数据使用900张训练，100张验证\n",
    "# 模型实现\n",
    "![](https://ai-studio-static-online.cdn.bcebos.com/1116e0f0f175465c8378b7609c770423e9795099225e459e8ec4dd3ac829169d)\n",
    "\n",
    "Unet,降采样4次，使用MaxPool,升采样4次，使用ConvTranspose,层间有跨连接\n",
    "\n",
    "优点：参数量少、速度快、对均匀分布的摩尔纹效果好\n",
    "\n",
    "缺点：对于非均匀分布的摩尔纹，处理效果不佳\n",
    "\n",
    "![](https://ai-studio-static-online.cdn.bcebos.com/f46c99639b4d407995c28a269f673e990d344ac4f0cf41a0b1b5628cc63ac1fa)\n",
    "\n",
    "# 训练\n",
    "1、训练时数据增强：裁剪为512x512大小的patch进行训练，以0.5的概率随机旋转、翻转\n",
    "\n",
    "2、损失函数:直接使用评分指标做为loss\n",
    "\n",
    "3、学习率：使用stepLR，从1e-4降低到1e-5\n",
    "\n",
    "4、优化器：Adam\n",
    "\n",
    "# 测试细节\n",
    "数据增强：将原图旋转、翻转后的预测结果取平均，PSNR可提升0.36db\n",
    "\n",
    "# 主要提分点\n",
    "1、unet结构中使用maxpool作为下采样\n",
    "\n",
    "2、使用score作为loss\n",
    "\n",
    "3、使用大patch进行训练\n",
    "\n",
    "4、测试增强\n",
    "\n"
   ]
  },
  {
   "cell_type": "code",
   "execution_count": 16,
   "metadata": {
    "execution": {
     "iopub.execute_input": "2022-01-24T04:14:36.336977Z",
     "iopub.status.busy": "2022-01-24T04:14:36.336687Z",
     "iopub.status.idle": "2022-01-24T04:14:42.354177Z",
     "shell.execute_reply": "2022-01-24T04:14:42.353331Z",
     "shell.execute_reply.started": "2022-01-24T04:14:36.336955Z"
    },
    "scrolled": true
   },
   "outputs": [
    {
     "name": "stdout",
     "output_type": "stream",
     "text": [
      "replace data/train/__MACOSX/._moire_train_dataset? [y]es, [n]o, [A]ll, [N]one, [r]ename: ^C\n",
      "replace data/testB/__MACOSX/._moire_testB_dataset? [y]es, [n]o, [A]ll, [N]one, [r]ename: ^C\n"
     ]
    }
   ],
   "source": [
    "# 解压数据\n",
    "!unzip data/data121036/moire_train_dataset.zip -d data/train >/dev/null\n",
    "# !unzip data/data121036/moire_testA_dataset.zip -d data/testA >/dev/null\n",
    "!unzip data/data126186/moire_testB_dataset.zip -d data/testB >/dev/null"
   ]
  },
  {
   "cell_type": "code",
   "execution_count": 15,
   "metadata": {
    "execution": {
     "iopub.execute_input": "2022-01-24T03:48:15.927462Z",
     "iopub.status.busy": "2022-01-24T03:48:15.926671Z",
     "iopub.status.idle": "2022-01-24T04:14:36.185157Z",
     "shell.execute_reply": "2022-01-24T04:14:36.184396Z",
     "shell.execute_reply.started": "2022-01-24T03:48:15.927419Z"
    },
    "scrolled": true
   },
   "outputs": [
    {
     "name": "stdout",
     "output_type": "stream",
     "text": [
      "/home/aistudio\n",
      "W0124 11:48:17.504961  4996 device_context.cc:447] Please NOTE: device: 0, GPU Compute Capability: 7.0, Driver API Version: 10.1, Runtime API Version: 10.1\n",
      "W0124 11:48:17.509470  4996 device_context.cc:465] device: 0, cuDNN Version: 7.6.\n",
      "/opt/conda/envs/python35-paddle120-env/lib/python3.7/site-packages/paddle/tensor/creation.py:130: DeprecationWarning: `np.object` is a deprecated alias for the builtin `object`. To silence this warning, use `object` by itself. Doing this will not modify any behavior and is safe. \n",
      "Deprecated in NumPy 1.20; for more details and guidance: https://numpy.org/devdocs/release/1.20.0-notes.html#deprecations\n",
      "  if data.dtype == np.object:\n",
      "epoch: 0 iter: 100 loss: -0.5032016345858574 lr: 0.0001 net: ckpts/sid\n",
      "epoch: 0 iter: 200 loss: -0.5373259426653385 lr: 0.0001 net: ckpts/sid\n",
      "epoch: 0 iter: 300 loss: -0.5506085867683093 lr: 0.0001 net: ckpts/sid\n",
      "epoch: 0 iter: 400 loss: -0.558398531228304 lr: 0.0001 net: ckpts/sid\n",
      "epoch: 0 iter: 450 ave_psnr: 20.58635 ave_ms_ssim: 0.9650663 ave_score: 0.5854648 best_score: [0.5854648] best_psnr: 0 best_ssim: 0\n",
      "epoch: 1 iter: 500 loss: -0.5862558925151825 lr: 0.0001 net: ckpts/sid\n",
      "epoch: 1 iter: 600 loss: -0.5852200257778167 lr: 0.0001 net: ckpts/sid\n",
      "epoch: 1 iter: 700 loss: -0.5870186402797699 lr: 0.0001 net: ckpts/sid\n",
      "epoch: 1 iter: 800 loss: -0.5883559930324554 lr: 0.0001 net: ckpts/sid\n",
      "epoch: 1 iter: 900 loss: -0.5890133729245928 lr: 0.0001 net: ckpts/sid\n",
      "epoch: 1 iter: 900 ave_psnr: 21.475212 ave_ms_ssim: 0.9707086 ave_score: 0.59273016 best_score: [0.59273016] best_psnr: 0 best_ssim: 0\n",
      "epoch: 2 iter: 1000 loss: -0.5906357246637345 lr: 0.0001 net: ckpts/sid\n",
      "epoch: 2 iter: 1100 loss: -0.5913641840219498 lr: 0.0001 net: ckpts/sid\n",
      "epoch: 2 iter: 1200 loss: -0.5910010270277659 lr: 0.0001 net: ckpts/sid\n",
      "epoch: 2 iter: 1300 loss: -0.5913456261903047 lr: 0.0001 net: ckpts/sid\n",
      "epoch: 2 iter: 1350 ave_psnr: 21.54478 ave_ms_ssim: 0.97354287 ave_score: 0.59449536 best_score: [0.59449536] best_psnr: 0 best_ssim: 0\n",
      "epoch: 3 iter: 1400 loss: -0.5928714942932128 lr: 0.0001 net: ckpts/sid\n",
      "epoch: 3 iter: 1500 loss: -0.5947012678782145 lr: 0.0001 net: ckpts/sid\n",
      "epoch: 3 iter: 1600 loss: -0.5944397172927857 lr: 0.0001 net: ckpts/sid\n",
      "epoch: 3 iter: 1700 loss: -0.5954594314098358 lr: 0.0001 net: ckpts/sid\n",
      "epoch: 3 iter: 1800 loss: -0.5954664913813273 lr: 0.0001 net: ckpts/sid\n",
      "epoch: 3 iter: 1800 ave_psnr: 20.869951 ave_ms_ssim: 0.9740332 ave_score: 0.59136635 best_score: [0.59449536] best_psnr: 0 best_ssim: 0\n",
      "epoch: 4 iter: 1900 loss: -0.5970139366388321 lr: 0.0001 net: ckpts/sid\n",
      "epoch: 4 iter: 2000 loss: -0.5977094522118569 lr: 0.0001 net: ckpts/sid\n",
      "epoch: 4 iter: 2100 loss: -0.6000585889816284 lr: 0.0001 net: ckpts/sid\n",
      "epoch: 4 iter: 2200 loss: -0.6004632220417261 lr: 0.0001 net: ckpts/sid\n",
      "epoch: 4 iter: 2250 ave_psnr: 23.565191 ave_ms_ssim: 0.97657007 ave_score: 0.60611105 best_score: [0.60611105] best_psnr: 0 best_ssim: 0\n",
      "epoch: 5 iter: 2300 loss: -0.605818499326706 lr: 0.0001 net: ckpts/sid\n",
      "epoch: 5 iter: 2400 loss: -0.6059783077239991 lr: 0.0001 net: ckpts/sid\n",
      "epoch: 5 iter: 2500 loss: -0.6080957143306732 lr: 0.0001 net: ckpts/sid\n",
      "epoch: 5 iter: 2600 loss: -0.6085799741744995 lr: 0.0001 net: ckpts/sid\n",
      "epoch: 5 iter: 2700 loss: -0.6082286359204186 lr: 0.0001 net: ckpts/sid\n",
      "epoch: 5 iter: 2700 ave_psnr: 25.341301 ave_ms_ssim: 0.9785319 ave_score: 0.61597234 best_score: [0.61597234] best_psnr: 0 best_ssim: 0\n",
      "epoch: 6 iter: 2800 loss: -0.6121488249301911 lr: 0.0001 net: ckpts/sid\n",
      "epoch: 6 iter: 2900 loss: -0.6108431130647659 lr: 0.0001 net: ckpts/sid\n",
      "epoch: 6 iter: 3000 loss: -0.610615846713384 lr: 0.0001 net: ckpts/sid\n",
      "epoch: 6 iter: 3100 loss: -0.6107276161015034 lr: 0.0001 net: ckpts/sid\n",
      "epoch: 6 iter: 3150 ave_psnr: 26.45982 ave_ms_ssim: 0.9800157 ave_score: 0.62230694 best_score: [0.62230694] best_psnr: 0 best_ssim: 0\n",
      "epoch: 7 iter: 3200 loss: -0.6160364931821823 lr: 0.0001 net: ckpts/sid\n",
      "epoch: 7 iter: 3300 loss: -0.6154904824495315 lr: 0.0001 net: ckpts/sid\n",
      "epoch: 7 iter: 3400 loss: -0.6168377367258072 lr: 0.0001 net: ckpts/sid\n",
      "epoch: 7 iter: 3500 loss: -0.6169040687595095 lr: 0.0001 net: ckpts/sid\n",
      "epoch: 7 iter: 3600 loss: -0.616923086312082 lr: 0.0001 net: ckpts/sid\n",
      "epoch: 7 iter: 3600 ave_psnr: 25.655123 ave_ms_ssim: 0.97946876 ave_score: 0.61801 best_score: [0.62230694] best_psnr: 0 best_ssim: 0\n",
      "epoch: 8 iter: 3700 loss: -0.6192318665981292 lr: 0.0001 net: ckpts/sid\n",
      "epoch: 8 iter: 3800 loss: -0.6152033331990242 lr: 0.0001 net: ckpts/sid\n",
      "epoch: 8 iter: 3900 loss: -0.615995768904686 lr: 0.0001 net: ckpts/sid\n",
      "epoch: 8 iter: 4000 loss: -0.618992556631565 lr: 0.0001 net: ckpts/sid\n",
      "epoch: 8 iter: 4050 ave_psnr: 27.33192 ave_ms_ssim: 0.9817368 ave_score: 0.62752813 best_score: [0.62752813] best_psnr: 0 best_ssim: 0\n",
      "epoch: 9 iter: 4100 loss: -0.621800400018692 lr: 0.0001 net: ckpts/sid\n",
      "epoch: 9 iter: 4200 loss: -0.6227545293172201 lr: 0.0001 net: ckpts/sid\n",
      "epoch: 9 iter: 4300 loss: -0.6209544880390168 lr: 0.0001 net: ckpts/sid\n",
      "epoch: 9 iter: 4400 loss: -0.6209083322116307 lr: 0.0001 net: ckpts/sid\n",
      "epoch: 9 iter: 4500 loss: -0.6221876641114553 lr: 0.0001 net: ckpts/sid\n",
      "epoch: 9 iter: 4500 ave_psnr: 28.65124 ave_ms_ssim: 0.982366 ave_score: 0.63443905 best_score: [0.63443905] best_psnr: 0 best_ssim: 0\n",
      "epoch: 10 iter: 4600 loss: -0.6288227242231369 lr: 0.0001 net: ckpts/sid\n",
      "epoch: 10 iter: 4700 loss: -0.6252662479877472 lr: 0.0001 net: ckpts/sid\n",
      "epoch: 10 iter: 4800 loss: -0.6255500735839208 lr: 0.0001 net: ckpts/sid\n",
      "epoch: 10 iter: 4900 loss: -0.626466476470232 lr: 0.0001 net: ckpts/sid\n",
      "epoch: 10 iter: 4950 ave_psnr: 27.554777 ave_ms_ssim: 0.9821019 ave_score: 0.6288249 best_score: [0.63443905] best_psnr: 0 best_ssim: 0\n",
      "epoch: 11 iter: 5000 loss: -0.6284336876869202 lr: 0.0001 net: ckpts/sid\n",
      "epoch: 11 iter: 5100 loss: -0.6252557810147603 lr: 0.0001 net: ckpts/sid\n",
      "epoch: 11 iter: 5200 loss: -0.6258679640293121 lr: 0.0001 net: ckpts/sid\n",
      "epoch: 11 iter: 5300 loss: -0.6239713110242571 lr: 0.0001 net: ckpts/sid\n",
      "epoch: 11 iter: 5400 loss: -0.6263757415612539 lr: 0.0001 net: ckpts/sid\n",
      "epoch: 11 iter: 5400 ave_psnr: 29.926392 ave_ms_ssim: 0.98185813 ave_score: 0.640561 best_score: [0.640561] best_psnr: 0 best_ssim: 0\n",
      "epoch: 12 iter: 5500 loss: -0.6324072170257569 lr: 0.0001 net: ckpts/sid\n",
      "epoch: 12 iter: 5600 loss: -0.6276378428936005 lr: 0.0001 net: ckpts/sid\n",
      "epoch: 12 iter: 5700 loss: -0.6267914946873983 lr: 0.0001 net: ckpts/sid\n",
      "epoch: 12 iter: 5800 loss: -0.6276075780391693 lr: 0.0001 net: ckpts/sid\n",
      "epoch: 12 iter: 5850 ave_psnr: 28.634462 ave_ms_ssim: 0.98294604 ave_score: 0.6346452 best_score: [0.640561] best_psnr: 0 best_ssim: 0\n",
      "epoch: 13 iter: 5900 loss: -0.6299612760543823 lr: 0.0001 net: ckpts/sid\n",
      "epoch: 13 iter: 6000 loss: -0.6294590318202973 lr: 0.0001 net: ckpts/sid\n",
      "epoch: 13 iter: 6100 loss: -0.628475613117218 lr: 0.0001 net: ckpts/sid\n",
      "epoch: 13 iter: 6200 loss: -0.6286483911105565 lr: 0.0001 net: ckpts/sid\n",
      "epoch: 13 iter: 6300 loss: -0.6291320412688786 lr: 0.0001 net: ckpts/sid\n",
      "epoch: 13 iter: 6300 ave_psnr: 30.438025 ave_ms_ssim: 0.98279047 ave_score: 0.64358544 best_score: [0.64358544] best_psnr: 0 best_ssim: 0\n",
      "epoch: 14 iter: 6400 loss: -0.6282638812065124 lr: 0.0001 net: ckpts/sid\n",
      "epoch: 14 iter: 6500 loss: -0.6285555538535118 lr: 0.0001 net: ckpts/sid\n",
      "epoch: 14 iter: 6600 loss: -0.629577977458636 lr: 0.0001 net: ckpts/sid\n",
      "epoch: 14 iter: 6700 loss: -0.6303466084599495 lr: 0.0001 net: ckpts/sid\n",
      "epoch: 14 iter: 6750 ave_psnr: 26.478588 ave_ms_ssim: 0.9828178 ave_score: 0.623802 best_score: [0.64358544] best_psnr: 0 best_ssim: 0\n",
      "epoch: 15 iter: 6800 loss: -0.6264052641391754 lr: 0.0001 net: ckpts/sid\n",
      "epoch: 15 iter: 6900 loss: -0.6258875699838002 lr: 0.0001 net: ckpts/sid\n",
      "epoch: 15 iter: 7000 loss: -0.6250148313045502 lr: 0.0001 net: ckpts/sid\n",
      "epoch: 15 iter: 7100 loss: -0.6268999852452959 lr: 0.0001 net: ckpts/sid\n",
      "epoch: 15 iter: 7200 loss: -0.628147370815277 lr: 0.0001 net: ckpts/sid\n",
      "epoch: 15 iter: 7200 ave_psnr: 29.961502 ave_ms_ssim: 0.9833682 ave_score: 0.64149153 best_score: [0.64358544] best_psnr: 0 best_ssim: 0\n",
      "epoch: 16 iter: 7300 loss: -0.6296271872520447 lr: 0.0001 net: ckpts/sid\n",
      "epoch: 16 iter: 7400 loss: -0.6319222101569175 lr: 0.0001 net: ckpts/sid\n",
      "epoch: 16 iter: 7500 loss: -0.6334111656745275 lr: 0.0001 net: ckpts/sid\n",
      "epoch: 16 iter: 7600 loss: -0.6328299576044083 lr: 0.0001 net: ckpts/sid\n",
      "epoch: 16 iter: 7650 ave_psnr: 29.565952 ave_ms_ssim: 0.98359567 ave_score: 0.6396276 best_score: [0.64358544] best_psnr: 0 best_ssim: 0\n",
      "epoch: 17 iter: 7700 loss: -0.627791303396225 lr: 0.0001 net: ckpts/sid\n",
      "epoch: 17 iter: 7800 loss: -0.6316764636834462 lr: 0.0001 net: ckpts/sid\n",
      "epoch: 17 iter: 7900 loss: -0.6316390862464905 lr: 0.0001 net: ckpts/sid\n",
      "epoch: 17 iter: 8000 loss: -0.6302195872579303 lr: 0.0001 net: ckpts/sid\n",
      "epoch: 17 iter: 8100 loss: -0.6304754119449192 lr: 0.0001 net: ckpts/sid\n",
      "epoch: 17 iter: 8100 ave_psnr: 29.627525 ave_ms_ssim: 0.9804564 ave_score: 0.6383658 best_score: [0.64358544] best_psnr: 0 best_ssim: 0\n",
      "epoch: 18 iter: 8200 loss: -0.6265370309352875 lr: 0.0001 net: ckpts/sid\n",
      "epoch: 18 iter: 8300 loss: -0.6301367676258087 lr: 0.0001 net: ckpts/sid\n",
      "epoch: 18 iter: 8400 loss: -0.6303068192799887 lr: 0.0001 net: ckpts/sid\n",
      "epoch: 18 iter: 8500 loss: -0.6305608882009983 lr: 0.0001 net: ckpts/sid\n",
      "epoch: 18 iter: 8550 ave_psnr: 28.97152 ave_ms_ssim: 0.98452616 ave_score: 0.6371207 best_score: [0.64358544] best_psnr: 0 best_ssim: 0\n",
      "epoch: 19 iter: 8600 loss: -0.6302639925479889 lr: 0.0001 net: ckpts/sid\n",
      "epoch: 19 iter: 8700 loss: -0.6261376943190893 lr: 0.0001 net: ckpts/sid\n",
      "epoch: 19 iter: 8800 loss: -0.6280282407999038 lr: 0.0001 net: ckpts/sid\n",
      "epoch: 19 iter: 8900 loss: -0.6315414620297296 lr: 0.0001 net: ckpts/sid\n",
      "epoch: 19 iter: 9000 loss: -0.6308195351892047 lr: 0.0001 net: ckpts/sid\n",
      "epoch: 19 iter: 9000 ave_psnr: 28.989897 ave_ms_ssim: 0.9828251 ave_score: 0.636362 best_score: [0.64358544] best_psnr: 0 best_ssim: 0\n",
      "epoch: 20 iter: 9100 loss: -0.6317064774036407 lr: 0.0001 net: ckpts/sid\n",
      "epoch: 20 iter: 9200 loss: -0.6340080198645591 lr: 0.0001 net: ckpts/sid\n",
      "epoch: 20 iter: 9300 loss: -0.6322897833585739 lr: 0.0001 net: ckpts/sid\n",
      "epoch: 20 iter: 9400 loss: -0.6333660455048085 lr: 0.0001 net: ckpts/sid\n",
      "epoch: 20 iter: 9450 ave_psnr: 30.289711 ave_ms_ssim: 0.98420805 ave_score: 0.64355254 best_score: [0.64358544] best_psnr: 0 best_ssim: 0\n",
      "epoch: 21 iter: 9500 loss: -0.6314260745048523 lr: 0.0001 net: ckpts/sid\n",
      "epoch: 21 iter: 9600 loss: -0.6335373632113139 lr: 0.0001 net: ckpts/sid\n",
      "epoch: 21 iter: 9700 loss: -0.6343642175197601 lr: 0.0001 net: ckpts/sid\n",
      "epoch: 21 iter: 9800 loss: -0.63597242133958 lr: 0.0001 net: ckpts/sid\n",
      "epoch: 21 iter: 9900 loss: -0.6359799056582981 lr: 0.0001 net: ckpts/sid\n",
      "epoch: 21 iter: 9900 ave_psnr: 31.247332 ave_ms_ssim: 0.9852723 ave_score: 0.6488729 best_score: [0.6488729] best_psnr: 0 best_ssim: 0\n",
      "epoch: 22 iter: 10000 loss: -0.6362128430604934 lr: 0.0001 net: ckpts/sid\n",
      "epoch: 22 iter: 10100 loss: -0.6368803840875625 lr: 0.0001 net: ckpts/sid\n",
      "epoch: 22 iter: 10200 loss: -0.6368146785100302 lr: 0.0001 net: ckpts/sid\n",
      "epoch: 22 iter: 10300 loss: -0.6376723179221153 lr: 0.0001 net: ckpts/sid\n",
      "epoch: 22 iter: 10350 ave_psnr: 30.346645 ave_ms_ssim: 0.9848378 ave_score: 0.6441522 best_score: [0.6488729] best_psnr: 0 best_ssim: 0\n",
      "epoch: 23 iter: 10400 loss: -0.6431165981292725 lr: 0.0001 net: ckpts/sid\n",
      "epoch: 23 iter: 10500 loss: -0.6399235014120738 lr: 0.0001 net: ckpts/sid\n",
      "epoch: 23 iter: 10600 loss: -0.6373526000976563 lr: 0.0001 net: ckpts/sid\n",
      "epoch: 23 iter: 10700 loss: -0.6360091985974993 lr: 0.0001 net: ckpts/sid\n",
      "epoch: 23 iter: 10800 loss: -0.6340773497687445 lr: 0.0001 net: ckpts/sid\n",
      "epoch: 23 iter: 10800 ave_psnr: 31.219593 ave_ms_ssim: 0.9855698 ave_score: 0.64888275 best_score: [0.64888275] best_psnr: 0 best_ssim: 0\n",
      "epoch: 24 iter: 10900 loss: -0.6390333604812622 lr: 0.0001 net: ckpts/sid\n",
      "epoch: 24 iter: 11000 loss: -0.6351090636849404 lr: 0.0001 net: ckpts/sid\n",
      "epoch: 24 iter: 11100 loss: -0.6361069798469543 lr: 0.0001 net: ckpts/sid\n",
      "epoch: 24 iter: 11200 loss: -0.6353233100473881 lr: 0.0001 net: ckpts/sid\n",
      "epoch: 24 iter: 11250 ave_psnr: 29.70626 ave_ms_ssim: 0.98559606 ave_score: 0.6413294 best_score: [0.64888275] best_psnr: 0 best_ssim: 0\n",
      "epoch: 25 iter: 11300 loss: -0.63603799700737 lr: 0.0001 net: ckpts/sid\n",
      "epoch: 25 iter: 11400 loss: -0.6346814970175425 lr: 0.0001 net: ckpts/sid\n",
      "epoch: 25 iter: 11500 loss: -0.6367554650306702 lr: 0.0001 net: ckpts/sid\n",
      "epoch: 25 iter: 11600 loss: -0.6382966847079141 lr: 0.0001 net: ckpts/sid\n",
      "epoch: 25 iter: 11700 loss: -0.6388224601745606 lr: 0.0001 net: ckpts/sid\n",
      "epoch: 25 iter: 11700 ave_psnr: 29.915518 ave_ms_ssim: 0.98566526 ave_score: 0.6424102 best_score: [0.64888275] best_psnr: 0 best_ssim: 0\n",
      "epoch: 26 iter: 11800 loss: -0.6349078041315078 lr: 0.0001 net: ckpts/sid\n",
      "epoch: 26 iter: 11900 loss: -0.6352600964903832 lr: 0.0001 net: ckpts/sid\n",
      "epoch: 26 iter: 12000 loss: -0.6332387016216914 lr: 0.0001 net: ckpts/sid\n",
      "epoch: 26 iter: 12100 loss: -0.6334578466415405 lr: 0.0001 net: ckpts/sid\n",
      "epoch: 26 iter: 12150 ave_psnr: 30.531445 ave_ms_ssim: 0.9845246 ave_score: 0.64491963 best_score: [0.64888275] best_psnr: 0 best_ssim: 0\n",
      "epoch: 27 iter: 12200 loss: -0.6354510009288787 lr: 0.0001 net: ckpts/sid\n",
      "epoch: 27 iter: 12300 loss: -0.6321451922257741 lr: 0.0001 net: ckpts/sid\n",
      "epoch: 27 iter: 12400 loss: -0.6350158381462098 lr: 0.0001 net: ckpts/sid\n",
      "epoch: 27 iter: 12500 loss: -0.6359615443434035 lr: 0.0001 net: ckpts/sid\n",
      "epoch: 27 iter: 12600 loss: -0.6369586993588342 lr: 0.0001 net: ckpts/sid\n",
      "epoch: 27 iter: 12600 ave_psnr: 31.220335 ave_ms_ssim: 0.9858654 ave_score: 0.64903426 best_score: [0.64903426] best_psnr: 0 best_ssim: 0\n",
      "epoch: 28 iter: 12700 loss: -0.6391093075275421 lr: 0.0001 net: ckpts/sid\n",
      "^C\n",
      "Traceback (most recent call last):\n",
      "  File \"work/train.py\", line 71, in <module>\n",
      "    train_loss += loss.item()\n",
      "  File \"/opt/conda/envs/python35-paddle120-env/lib/python3.7/site-packages/paddle/fluid/dygraph/varbase_patch_methods.py\", line 441, in item\n",
      "    return self._getitem_from_offset(*args).item()\n",
      "KeyboardInterrupt\n",
      "Exception in thread Thread-57:\n",
      "Traceback (most recent call last):\n",
      "  File \"/opt/conda/envs/python35-paddle120-env/lib/python3.7/threading.py\", line 926, in _bootstrap_inner\n",
      "    self.run()\n",
      "  File \"/opt/conda/envs/python35-paddle120-env/lib/python3.7/threading.py\", line 870, in run\n",
      "    self._target(*self._args, **self._kwargs)\n",
      "  File \"/opt/conda/envs/python35-paddle120-env/lib/python3.7/site-packages/paddle/fluid/dataloader/dataloader_iter.py\", line 213, in _thread_loop\n",
      "    self._thread_done_event)\n",
      "  File \"/opt/conda/envs/python35-paddle120-env/lib/python3.7/site-packages/paddle/fluid/dataloader/fetcher.py\", line 121, in fetch\n",
      "    data.append(self.dataset[idx])\n",
      "  File \"/home/aistudio/work/dataloader.py\", line 64, in __getitem__\n",
      "    img_hr = paddle.to_tensor(np.ascontiguousarray(np.transpose(img_hr, (2, 0, 1))))\n",
      "  File \"<decorator-gen-134>\", line 2, in to_tensor\n",
      "  File \"/opt/conda/envs/python35-paddle120-env/lib/python3.7/site-packages/paddle/fluid/wrapped_decorator.py\", line 25, in __impl__\n",
      "    return wrapped_func(*args, **kwargs)\n",
      "  File \"/opt/conda/envs/python35-paddle120-env/lib/python3.7/site-packages/paddle/fluid/framework.py\", line 228, in __impl__\n",
      "    ), \"We only support '%s()' in dynamic graph mode, please call 'paddle.disable_static()' to enter dynamic graph mode.\" % func.__name__\n",
      "AssertionError: We only support 'to_tensor()' in dynamic graph mode, please call 'paddle.disable_static()' to enter dynamic graph mode.\n",
      "\n"
     ]
    }
   ],
   "source": [
    "# 启动训练， 模型存放在ckpts\n",
    "%cd /home/aistudio/\n",
    "!python work/train.py"
   ]
  },
  {
   "cell_type": "code",
   "execution_count": null,
   "metadata": {
    "scrolled": true
   },
   "outputs": [],
   "source": [
    "# 复现B榜，结果存放在res\n",
    "%cd /home/aistudio/\n",
    "!python work/test.py"
   ]
  },
  {
   "cell_type": "markdown",
   "metadata": {},
   "source": [
    "请点击[此处](https://ai.baidu.com/docs#/AIStudio_Project_Notebook/a38e5576)查看本环境基本用法.  <br>\n",
    "Please click [here ](https://ai.baidu.com/docs#/AIStudio_Project_Notebook/a38e5576) for more detailed instructions. "
   ]
  }
 ],
 "metadata": {
  "kernelspec": {
   "display_name": "Python 3",
   "language": "python",
   "name": "py35-paddle1.2.0"
  },
  "language_info": {
   "codemirror_mode": {
    "name": "ipython",
    "version": 3
   },
   "file_extension": ".py",
   "mimetype": "text/x-python",
   "name": "python",
   "nbconvert_exporter": "python",
   "pygments_lexer": "ipython3",
   "version": "3.7.4"
  }
 },
 "nbformat": 4,
 "nbformat_minor": 4
}
